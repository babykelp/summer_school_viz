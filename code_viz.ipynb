{
 "cells": [
  {
   "cell_type": "code",
   "execution_count": 3,
   "metadata": {},
   "outputs": [],
   "source": [
    "import pandas as pd\n",
    "import numpy as np\n",
    "import geopandas as gpd"
   ]
  },
  {
   "cell_type": "code",
   "execution_count": 3,
   "metadata": {},
   "outputs": [],
   "source": [
    "data = pd.read_excel(\"data.xls\", header=3)\n",
    "data  = data.rename(columns = {\"Unnamed: 0\":\"Country\", \"Unnamed: 1\":\"Goal\"})\n",
    "data = data.loc[data.Goal.str.strip() == \"деловая\"]\n",
    "\n",
    "years = np.arange(2010,2024).astype(str)\n",
    "\n",
    "year_indexes = [data.columns.get_loc(year) for year in years]\n",
    "columns_to_drop = []\n",
    "\n",
    "#cумма по годам\n",
    "for year_index in year_indexes:\n",
    "    year = data.columns[year_index]\n",
    "    columns_to_sum = data.iloc[:, year_index:year_index + 4].columns\n",
    "    data[year] = data[columns_to_sum].sum(axis=1, skipna=True)\n",
    "\n",
    "    if len(columns_to_sum) > 1:\n",
    "        columns_to_drop.extend(columns_to_sum[1:])\n",
    "#дропаем лишние колонки\n",
    "data = data.drop(columns=columns_to_drop)\n",
    "\n",
    "data.to_csv(\"data_cleaned.csv\")"
   ]
  },
  {
   "cell_type": "code",
   "execution_count": 4,
   "metadata": {},
   "outputs": [],
   "source": [
    "data[\"Diff_23_18\"] = data['2023']-data['2018']\n",
    "data = data[data[\"Diff_23_18\"] != 0]\n",
    "data.to_csv(\"data_cleaned.csv\")"
   ]
  },
  {
   "cell_type": "code",
   "execution_count": 16,
   "metadata": {},
   "outputs": [
    {
     "name": "stderr",
     "output_type": "stream",
     "text": [
      "/tmp/ipykernel_15415/3512657041.py:5: UserWarning: Column names longer than 10 characters will be truncated when saved to ESRI Shapefile.\n",
      "  new_df.to_file('country_plots.shp')\n"
     ]
    }
   ],
   "source": [
    "df = pd.read_csv(\"data_cleaned.csv\")\n",
    "df = df.loc[:, ['country_code','Diff_23_18']]\n",
    "gdf = gpd.read_file('world-administrative-boundaries/world-administrative-boundaries.shp')\n",
    "new_df = gdf.merge( df, left_on = 'color_code', right_on = 'country_code')\n",
    "new_df.to_file('country_plots.shp')"
   ]
  }
 ],
 "metadata": {
  "kernelspec": {
   "display_name": "we_wear_pink",
   "language": "python",
   "name": "python3"
  },
  "language_info": {
   "codemirror_mode": {
    "name": "ipython",
    "version": 3
   },
   "file_extension": ".py",
   "mimetype": "text/x-python",
   "name": "python",
   "nbconvert_exporter": "python",
   "pygments_lexer": "ipython3",
   "version": "3.12.1"
  }
 },
 "nbformat": 4,
 "nbformat_minor": 2
}
